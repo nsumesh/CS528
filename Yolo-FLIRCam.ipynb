{
 "cells": [
  {
   "cell_type": "code",
   "execution_count": 1,
   "id": "1c837d46-0d8f-4e0c-a59d-7fd024539d7e",
   "metadata": {},
   "outputs": [],
   "source": [
    "import PySpin\n",
    "import cv2\n",
    "import numpy as np\n",
    "from ultralytics import YOLO\n",
    "from ultralytics.utils.plotting import Annotator\n",
    "import datetime\n",
    "import csv\n",
    "\n",
    "import glob\n",
    "import pickle"
   ]
  },
  {
   "cell_type": "code",
   "execution_count": 2,
   "id": "232f2b9c-3b3d-48e8-bdbe-50c58a2b1964",
   "metadata": {},
   "outputs": [],
   "source": [
    "%load_ext autoreload\n",
    "%autoreload 2"
   ]
  },
  {
   "cell_type": "code",
   "execution_count": 3,
   "id": "64bdfc22-1e6a-4676-aff2-429188480094",
   "metadata": {},
   "outputs": [],
   "source": [
    "def configure_camera(camera):\n",
    "    # Changes amount of frame captured in camera\n",
    "    width = int(2448 / 1)\n",
    "    height = int(2048 / 1)\n",
    "\n",
    "    # Reset Camera\n",
    "    nodemap = camera.GetNodeMap()\n",
    "    user_set_selector = PySpin.CEnumerationPtr(nodemap.GetNode(\"UserSetSelector\"))\n",
    "    default_set = user_set_selector.GetEntryByName(\"Default\")\n",
    "    user_set_selector.SetIntValue(default_set.GetValue())\n",
    "    user_set_load = PySpin.CCommandPtr(nodemap.GetNode(\"UserSetLoad\"))\n",
    "    user_set_load.Execute()\n",
    "    \n",
    "    if camera.PixelFormat.GetAccessMode() == PySpin.RW:\n",
    "        camera.PixelFormat.SetValue(PySpin.PixelFormat_RGB8)\n",
    "        print(\"Pixel format set to color.\")\n",
    "    else:\n",
    "        print(\"Color pixel format not supported.\")\n",
    "\n",
    "    # Retrieve the nodemap\n",
    "    nodemap = camera.GetNodeMap()\n",
    "\n",
    "    # Get width and height nodes\n",
    "    node_width = PySpin.CIntegerPtr(nodemap.GetNode(\"Width\"))\n",
    "    node_height = PySpin.CIntegerPtr(nodemap.GetNode(\"Height\"))\n",
    "    node_width_max = node_width.GetMax()\n",
    "    node_height_max = node_height.GetMax()\n",
    "\n",
    "    # Calculate offsets to center the image\n",
    "    offset_x = (node_width_max - width) // 2\n",
    "    offset_y = (node_height_max - height) // 2\n",
    "\n",
    "    # Set width and height\n",
    "    node_offset_x = PySpin.CIntegerPtr(nodemap.GetNode(\"OffsetX\"))\n",
    "    node_offset_y = PySpin.CIntegerPtr(nodemap.GetNode(\"OffsetY\"))\n",
    "\n",
    "    node_width.SetValue(width)\n",
    "    node_height.SetValue(height)\n",
    "    node_offset_x.SetValue(offset_x)\n",
    "    node_offset_y.SetValue(offset_y)\n",
    "\n",
    "    camera.AcquisitionMode.SetValue(PySpin.AcquisitionMode_SingleFrame)"
   ]
  },
  {
   "cell_type": "code",
   "execution_count": 4,
   "id": "64df2f48-2cb4-41d7-8430-81a872b8feb3",
   "metadata": {},
   "outputs": [],
   "source": [
    "def capture_and_process_image(camera, model, video_writer, csv_writer):\n",
    "    global mtx, dist, newcameramtx, roi\n",
    "\n",
    "    #Capture Image\n",
    "    camera.BeginAcquisition()\n",
    "    image_result = camera.GetNextImage()\n",
    "    if image_result.IsIncomplete():\n",
    "        print('Image incomplete with image status %d ...' % image_result.GetImageStatus())\n",
    "        image_result.Release()\n",
    "        camera.EndAcquisition()\n",
    "        return True\n",
    "\n",
    "    image_data = image_result.GetNDArray()\n",
    "    image_result.Release()\n",
    "    camera.EndAcquisition()\n",
    "\n",
    "    # Run lens calibration\n",
    "    image_data = cv2.undistort(image_data, mtx, dist, None, newcameramtx)\n",
    "\n",
    "    x, y, w, h = roi\n",
    "    image_data = image_data[y:y+h, x:x+w]\n",
    "    \n",
    "    # Convert to a format that can be displayed with OpenCV\n",
    "    image_data = cv2.resize(image_data, (640, 640))\n",
    "    image_data = cv2.cvtColor(image_data, cv2.COLOR_BGR2RGB)\n",
    "    \n",
    "    # Perform detection\n",
    "    results = model.predict(image_data, classes=0, agnostic_nms=False, verbose=False)[0]\n",
    "    annotator = Annotator(image_data)\n",
    "    timestamp = datetime.datetime.now().strftime(\"%Y-%m-%d %H:%M:%S\")\n",
    "    for r in results:\n",
    "        for box in r.boxes:\n",
    "            annotator.box_label(box.xyxy[0], model.names[int(box.cls)])\n",
    "            csv_writer.writerow([timestamp, *box.xyxy[0], box.conf[0], model.names[int(box.cls)]])\n",
    "\n",
    "    # Save the frame to video\n",
    "    video_writer.write(image_data)\n",
    "\n",
    "    # Display the annotated image\n",
    "    annotated_image = annotator.result()\n",
    "    cv2.imshow('Processed Image', annotated_image)\n",
    "\n",
    "    if cv2.waitKey(1) & 0xFF == ord('q'):\n",
    "        return False\n",
    "\n",
    "    return True\n",
    "\n"
   ]
  },
  {
   "cell_type": "code",
   "execution_count": 5,
   "id": "c4574dc2-b387-4b11-a9ac-ce3fe3f79fae",
   "metadata": {},
   "outputs": [],
   "source": [
    "def main():\n",
    "    global mtx, dist, newcameramtx, roi\n",
    "    # Load in variables from lens calibration\n",
    "    with open('calibration_data.pkl', 'rb') as f:\n",
    "        data = pickle.load(f)\n",
    "        \n",
    "    mtx = data['mtx']\n",
    "    dist = data['dist']\n",
    "    newcameramtx = data['newcameramtx']\n",
    "    roi = data['roi']\n",
    "\n",
    "    # Load up camera\n",
    "    system = PySpin.System.GetInstance()\n",
    "    cam_list = system.GetCameras()\n",
    "    if cam_list.GetSize() == 0:\n",
    "        print('No cameras found.')\n",
    "        return\n",
    "\n",
    "    camera = cam_list.GetByIndex(0)\n",
    "    camera.Init()\n",
    "    configure_camera(camera)\n",
    "\n",
    "    # Load your YOLO model\n",
    "    model = YOLO(\"yolov8n.pt\")  \n",
    "    \n",
    "    # Setup video writer\n",
    "    fourcc = cv2.VideoWriter_fourcc(*'mp4v')\n",
    "    video_writer = cv2.VideoWriter('output_video.mp4', fourcc, 20.0, (640, 640))\n",
    "\n",
    "    # Setup CSV writer\n",
    "    csv_file = open('detections.csv', 'w', newline='')\n",
    "    csv_writer = csv.writer(csv_file)\n",
    "    csv_writer.writerow(['Timestamp', 'X1', 'Y1', 'X2', 'Y2', 'Confidence', 'Class'])\n",
    "\n",
    "    \n",
    "    # Loop image capture\n",
    "    while True:\n",
    "        if not capture_and_process_image(camera, model, video_writer, csv_writer):\n",
    "            break\n",
    "\n",
    "    camera.DeInit()\n",
    "    del camera\n",
    "    cam_list.Clear()\n",
    "    system.ReleaseInstance()\n",
    "    cv2.destroyAllWindows()\n",
    "    video_writer.release()\n",
    "    csv_file.close()\n",
    "\n",
    "    %run extractData\n",
    "    %run sendData"
   ]
  },
  {
   "cell_type": "code",
   "execution_count": null,
   "id": "8f061c8c-6715-45e1-85db-564ca54a002e",
   "metadata": {
    "scrolled": true
   },
   "outputs": [
    {
     "name": "stdout",
     "output_type": "stream",
     "text": [
      "Pixel format set to color.\n"
     ]
    },
    {
     "name": "stderr",
     "output_type": "stream",
     "text": [
      "qt.qpa.xcb: QXcbConnection: XCB error: 148 (Unknown), sequence: 186, resource id: 0, major code: 140 (Unknown), minor code: 20\n"
     ]
    }
   ],
   "source": [
    "if __name__ == '__main__':\n",
    "    main()"
   ]
  },
  {
   "cell_type": "code",
   "execution_count": null,
   "id": "fed9f428-8beb-48b1-b542-28b2fd18d1c8",
   "metadata": {},
   "outputs": [],
   "source": []
  },
  {
   "cell_type": "code",
   "execution_count": null,
   "id": "f5dcc50c-920d-467f-8647-a647e57ec579",
   "metadata": {},
   "outputs": [],
   "source": []
  },
  {
   "cell_type": "code",
   "execution_count": null,
   "id": "39e9d16d-bc5c-4b25-9b12-762ff7442d9f",
   "metadata": {},
   "outputs": [],
   "source": []
  },
  {
   "cell_type": "code",
   "execution_count": null,
   "id": "bb94dc16-23cc-4db0-9e5e-d648887664e9",
   "metadata": {},
   "outputs": [],
   "source": []
  }
 ],
 "metadata": {
  "kernelspec": {
   "display_name": "Python 3 (ipykernel)",
   "language": "python",
   "name": "python3"
  },
  "language_info": {
   "codemirror_mode": {
    "name": "ipython",
    "version": 3
   },
   "file_extension": ".py",
   "mimetype": "text/x-python",
   "name": "python",
   "nbconvert_exporter": "python",
   "pygments_lexer": "ipython3",
   "version": "3.10.13"
  }
 },
 "nbformat": 4,
 "nbformat_minor": 5
}
